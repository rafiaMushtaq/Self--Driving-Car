{
 "cells": [
  {
   "cell_type": "code",
   "execution_count": 12,
   "metadata": {},
   "outputs": [
    {
     "data": {
      "text/html": [
       "<div>\n",
       "<style scoped>\n",
       "    .dataframe tbody tr th:only-of-type {\n",
       "        vertical-align: middle;\n",
       "    }\n",
       "\n",
       "    .dataframe tbody tr th {\n",
       "        vertical-align: top;\n",
       "    }\n",
       "\n",
       "    .dataframe thead th {\n",
       "        text-align: right;\n",
       "    }\n",
       "</style>\n",
       "<table border=\"1\" class=\"dataframe\">\n",
       "  <thead>\n",
       "    <tr style=\"text-align: right;\">\n",
       "      <th></th>\n",
       "      <th>accel</th>\n",
       "      <th>steer</th>\n",
       "      <th>gear</th>\n",
       "    </tr>\n",
       "  </thead>\n",
       "  <tbody>\n",
       "    <tr>\n",
       "      <td>0</td>\n",
       "      <td>1.0</td>\n",
       "      <td>-0.427511</td>\n",
       "      <td>1</td>\n",
       "    </tr>\n",
       "    <tr>\n",
       "      <td>1</td>\n",
       "      <td>1.0</td>\n",
       "      <td>-0.427511</td>\n",
       "      <td>1</td>\n",
       "    </tr>\n",
       "    <tr>\n",
       "      <td>2</td>\n",
       "      <td>1.0</td>\n",
       "      <td>-0.427511</td>\n",
       "      <td>1</td>\n",
       "    </tr>\n",
       "    <tr>\n",
       "      <td>3</td>\n",
       "      <td>1.0</td>\n",
       "      <td>-0.427511</td>\n",
       "      <td>1</td>\n",
       "    </tr>\n",
       "    <tr>\n",
       "      <td>4</td>\n",
       "      <td>1.0</td>\n",
       "      <td>-0.427511</td>\n",
       "      <td>1</td>\n",
       "    </tr>\n",
       "  </tbody>\n",
       "</table>\n",
       "</div>"
      ],
      "text/plain": [
       "   accel     steer  gear\n",
       "0    1.0 -0.427511     1\n",
       "1    1.0 -0.427511     1\n",
       "2    1.0 -0.427511     1\n",
       "3    1.0 -0.427511     1\n",
       "4    1.0 -0.427511     1"
      ]
     },
     "execution_count": 12,
     "metadata": {},
     "output_type": "execute_result"
    }
   ],
   "source": [
    "import pandas as pd\n",
    "#read in data using pandas\n",
    "from tensorflow.keras.models import Sequential\n",
    "from tensorflow.keras.layers import Dense\n",
    "from tensorflow.keras.callbacks import EarlyStopping\n",
    "import numpy\n",
    "train_df = pd.read_csv('StateDriveFile.csv',sep = ',', names=['Speed','AngleToTrackAxis','TrackPosition','Gear','RacePos', 'LateralSpeed','CurrentLapTime','Damage','DistanceFromStartLine','DistanceRaced','FuelLevel','LastLapTime','RPM','ZSpeed','Z','accel','steer','gear'])\n",
    "train_y = train_df[['accel','steer','gear']]\n",
    "train_y.head()"
   ]
  },
  {
   "cell_type": "code",
   "execution_count": 13,
   "metadata": {},
   "outputs": [
    {
     "data": {
      "text/html": [
       "<div>\n",
       "<style scoped>\n",
       "    .dataframe tbody tr th:only-of-type {\n",
       "        vertical-align: middle;\n",
       "    }\n",
       "\n",
       "    .dataframe tbody tr th {\n",
       "        vertical-align: top;\n",
       "    }\n",
       "\n",
       "    .dataframe thead th {\n",
       "        text-align: right;\n",
       "    }\n",
       "</style>\n",
       "<table border=\"1\" class=\"dataframe\">\n",
       "  <thead>\n",
       "    <tr style=\"text-align: right;\">\n",
       "      <th></th>\n",
       "      <th>Speed</th>\n",
       "      <th>AngleToTrackAxis</th>\n",
       "      <th>TrackPosition</th>\n",
       "      <th>Gear</th>\n",
       "      <th>RacePos</th>\n",
       "      <th>LateralSpeed</th>\n",
       "      <th>CurrentLapTime</th>\n",
       "      <th>Damage</th>\n",
       "      <th>DistanceFromStartLine</th>\n",
       "      <th>DistanceRaced</th>\n",
       "      <th>FuelLevel</th>\n",
       "      <th>LastLapTime</th>\n",
       "      <th>RPM</th>\n",
       "      <th>ZSpeed</th>\n",
       "      <th>Z</th>\n",
       "    </tr>\n",
       "  </thead>\n",
       "  <tbody>\n",
       "    <tr>\n",
       "      <td>0</td>\n",
       "      <td>-0.000596</td>\n",
       "      <td>0.010143</td>\n",
       "      <td>0.333669</td>\n",
       "      <td>0</td>\n",
       "      <td>1</td>\n",
       "      <td>0.002789</td>\n",
       "      <td>-0.982</td>\n",
       "      <td>0.0</td>\n",
       "      <td>2032.56</td>\n",
       "      <td>0.0</td>\n",
       "      <td>94.0</td>\n",
       "      <td>0.0</td>\n",
       "      <td>942.478</td>\n",
       "      <td>-0.000173</td>\n",
       "      <td>0.345608</td>\n",
       "    </tr>\n",
       "    <tr>\n",
       "      <td>1</td>\n",
       "      <td>-0.000596</td>\n",
       "      <td>0.010143</td>\n",
       "      <td>0.333669</td>\n",
       "      <td>0</td>\n",
       "      <td>1</td>\n",
       "      <td>0.002789</td>\n",
       "      <td>-0.962</td>\n",
       "      <td>0.0</td>\n",
       "      <td>2032.56</td>\n",
       "      <td>0.0</td>\n",
       "      <td>94.0</td>\n",
       "      <td>0.0</td>\n",
       "      <td>942.478</td>\n",
       "      <td>-0.000173</td>\n",
       "      <td>0.345608</td>\n",
       "    </tr>\n",
       "    <tr>\n",
       "      <td>2</td>\n",
       "      <td>-0.000596</td>\n",
       "      <td>0.010143</td>\n",
       "      <td>0.333669</td>\n",
       "      <td>0</td>\n",
       "      <td>1</td>\n",
       "      <td>0.002789</td>\n",
       "      <td>-0.942</td>\n",
       "      <td>0.0</td>\n",
       "      <td>2032.56</td>\n",
       "      <td>0.0</td>\n",
       "      <td>94.0</td>\n",
       "      <td>0.0</td>\n",
       "      <td>942.478</td>\n",
       "      <td>-0.000173</td>\n",
       "      <td>0.345608</td>\n",
       "    </tr>\n",
       "    <tr>\n",
       "      <td>3</td>\n",
       "      <td>-0.000596</td>\n",
       "      <td>0.010143</td>\n",
       "      <td>0.333669</td>\n",
       "      <td>0</td>\n",
       "      <td>1</td>\n",
       "      <td>0.002789</td>\n",
       "      <td>-0.922</td>\n",
       "      <td>0.0</td>\n",
       "      <td>2032.56</td>\n",
       "      <td>0.0</td>\n",
       "      <td>94.0</td>\n",
       "      <td>0.0</td>\n",
       "      <td>942.478</td>\n",
       "      <td>-0.000173</td>\n",
       "      <td>0.345608</td>\n",
       "    </tr>\n",
       "    <tr>\n",
       "      <td>4</td>\n",
       "      <td>-0.000596</td>\n",
       "      <td>0.010143</td>\n",
       "      <td>0.333669</td>\n",
       "      <td>0</td>\n",
       "      <td>1</td>\n",
       "      <td>0.002789</td>\n",
       "      <td>-0.902</td>\n",
       "      <td>0.0</td>\n",
       "      <td>2032.56</td>\n",
       "      <td>0.0</td>\n",
       "      <td>94.0</td>\n",
       "      <td>0.0</td>\n",
       "      <td>942.478</td>\n",
       "      <td>-0.000173</td>\n",
       "      <td>0.345608</td>\n",
       "    </tr>\n",
       "  </tbody>\n",
       "</table>\n",
       "</div>"
      ],
      "text/plain": [
       "      Speed  AngleToTrackAxis  TrackPosition  Gear  RacePos  LateralSpeed  \\\n",
       "0 -0.000596          0.010143       0.333669     0        1      0.002789   \n",
       "1 -0.000596          0.010143       0.333669     0        1      0.002789   \n",
       "2 -0.000596          0.010143       0.333669     0        1      0.002789   \n",
       "3 -0.000596          0.010143       0.333669     0        1      0.002789   \n",
       "4 -0.000596          0.010143       0.333669     0        1      0.002789   \n",
       "\n",
       "   CurrentLapTime  Damage  DistanceFromStartLine  DistanceRaced  FuelLevel  \\\n",
       "0          -0.982     0.0                2032.56            0.0       94.0   \n",
       "1          -0.962     0.0                2032.56            0.0       94.0   \n",
       "2          -0.942     0.0                2032.56            0.0       94.0   \n",
       "3          -0.922     0.0                2032.56            0.0       94.0   \n",
       "4          -0.902     0.0                2032.56            0.0       94.0   \n",
       "\n",
       "   LastLapTime      RPM    ZSpeed         Z  \n",
       "0          0.0  942.478 -0.000173  0.345608  \n",
       "1          0.0  942.478 -0.000173  0.345608  \n",
       "2          0.0  942.478 -0.000173  0.345608  \n",
       "3          0.0  942.478 -0.000173  0.345608  \n",
       "4          0.0  942.478 -0.000173  0.345608  "
      ]
     },
     "execution_count": 13,
     "metadata": {},
     "output_type": "execute_result"
    }
   ],
   "source": [
    "train_X = train_df.drop(columns=['accel','steer','gear'])\n",
    "train_X.head()"
   ]
  },
  {
   "cell_type": "code",
   "execution_count": 14,
   "metadata": {},
   "outputs": [],
   "source": [
    "\n",
    "\n",
    "#create model\n",
    "model = Sequential()\n",
    "\n",
    "#get number of columns in training data\n",
    "n_cols = train_X.shape[1]\n",
    "\n",
    "#add model layers\n",
    "#model.add(Dense(19, activation='relu', input_shape=(n_cols,)))\n",
    "#model.add(Dense(19, activation='relu'))\n",
    "#model.add(Dense(3))\n",
    "model.add(Dense(15, activation='relu', input_shape=(n_cols,)))\n",
    "model.add(Dense(200, activation='relu'))\n",
    "model.add(Dense(200, activation='relu'))\n",
    "model.add(Dense(3))\n",
    "#compile model using mse as a measure of model performance\n",
    "model.compile(optimizer='adam', loss='mean_squared_error')"
   ]
  },
  {
   "cell_type": "code",
   "execution_count": 26,
   "metadata": {
    "scrolled": true
   },
   "outputs": [
    {
     "name": "stdout",
     "output_type": "stream",
     "text": [
      "WARNING:tensorflow:Falling back from v2 loop because of error: Failed to find data adapter that can handle input: <class 'pandas.core.frame.DataFrame'>, <class 'NoneType'>\n",
      "Train on 87985 samples, validate on 21997 samples\n",
      "Epoch 1/30\n",
      "87985/87985 [==============================] - 10s 117us/sample - loss: 0.0588 - val_loss: 0.0810\n",
      "Epoch 2/30\n",
      "87985/87985 [==============================] - 11s 122us/sample - loss: 0.0583 - val_loss: 0.0634\n",
      "Epoch 3/30\n",
      "87985/87985 [==============================] - 10s 117us/sample - loss: 0.0605 - val_loss: 0.0775\n",
      "Epoch 4/30\n",
      "87985/87985 [==============================] - 10s 114us/sample - loss: 0.0598 - val_loss: 0.0718\n",
      "Epoch 5/30\n",
      "87985/87985 [==============================] - 10s 117us/sample - loss: 0.0623 - val_loss: 0.0622\n",
      "Epoch 6/30\n",
      "87985/87985 [==============================] - 11s 124us/sample - loss: 0.0676 - val_loss: 0.0850\n",
      "Epoch 7/30\n",
      "87985/87985 [==============================] - 12s 136us/sample - loss: 0.0678 - val_loss: 0.0681\n",
      "Epoch 8/30\n",
      "87985/87985 [==============================] - 10s 119us/sample - loss: 0.0655 - val_loss: 0.0679\n"
     ]
    },
    {
     "data": {
      "text/plain": [
       "<tensorflow.python.keras.callbacks.History at 0x1fa50726ac8>"
      ]
     },
     "execution_count": 26,
     "metadata": {},
     "output_type": "execute_result"
    }
   ],
   "source": [
    "\n",
    "#early stopping monitor so the model stops training when it won't improve anymore\n",
    "early_stopping_monitor = EarlyStopping(patience=3)\n",
    "#train model\n",
    "model.fit(train_X, train_y, validation_split=0.2, epochs=30, callbacks=[early_stopping_monitor])"
   ]
  },
  {
   "cell_type": "code",
   "execution_count": 27,
   "metadata": {},
   "outputs": [
    {
     "name": "stdout",
     "output_type": "stream",
     "text": [
      "WARNING:tensorflow:Falling back from v2 loop because of error: Failed to find data adapter that can handle input: <class 'pandas.core.frame.DataFrame'>, <class 'NoneType'>\n"
     ]
    },
    {
     "data": {
      "text/plain": [
       "array([[ 1.0100297e+00, -1.0571057e-01,  1.0953605e+00],\n",
       "       [ 1.0100297e+00, -1.0570989e-01,  1.0953596e+00],\n",
       "       [ 1.0100298e+00, -1.0570920e-01,  1.0953586e+00],\n",
       "       ...,\n",
       "       [ 7.7384663e-01, -1.0716021e-03,  2.2809021e+00],\n",
       "       [ 7.5793725e-01, -4.4570006e-03,  2.2225833e+00],\n",
       "       [ 7.6618230e-01, -3.7253760e-03,  2.2739089e+00]], dtype=float32)"
      ]
     },
     "execution_count": 27,
     "metadata": {},
     "output_type": "execute_result"
    }
   ],
   "source": [
    "\n",
    "\n",
    "test_y_predictions = model.predict(train_X)\n",
    "test_y_predictions"
   ]
  },
  {
   "cell_type": "code",
   "execution_count": 28,
   "metadata": {},
   "outputs": [],
   "source": [
    "model.save(\"torcsModel.h5\")"
   ]
  },
  {
   "cell_type": "code",
   "execution_count": 29,
   "metadata": {},
   "outputs": [],
   "source": [
    "df=pd.DataFrame(test_y_predictions)"
   ]
  },
  {
   "cell_type": "code",
   "execution_count": 33,
   "metadata": {},
   "outputs": [],
   "source": [
    "df.to_csv('file.csv', sep=',', encoding='utf-8', index=False)"
   ]
  },
  {
   "cell_type": "code",
   "execution_count": null,
   "metadata": {},
   "outputs": [],
   "source": []
  }
 ],
 "metadata": {
  "kernelspec": {
   "display_name": "Python 3",
   "language": "python",
   "name": "python3"
  },
  "language_info": {
   "codemirror_mode": {
    "name": "ipython",
    "version": 3
   },
   "file_extension": ".py",
   "mimetype": "text/x-python",
   "name": "python",
   "nbconvert_exporter": "python",
   "pygments_lexer": "ipython3",
   "version": "3.7.4"
  }
 },
 "nbformat": 4,
 "nbformat_minor": 2
}
